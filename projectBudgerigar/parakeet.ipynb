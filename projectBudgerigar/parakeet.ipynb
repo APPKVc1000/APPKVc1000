{
 "cells": [
  {
   "cell_type": "code",
   "execution_count": 1,
   "id": "f3f013f5",
   "metadata": {},
   "outputs": [],
   "source": [
    "import io\n",
    "import pandas\n",
    "import json\n",
    "from collections import defaultdict\n",
    "# from collections import OrderedDict, defaultdict"
   ]
  },
  {
   "cell_type": "code",
   "execution_count": 2,
   "id": "8df3ca6d",
   "metadata": {},
   "outputs": [],
   "source": [
    "with open(r\"C:\\Users\\APPKVc1000\\projectDuck\\duck.json\", 'r', encoding='utf-8') as duck:\n",
    "    domains = tuple((json.loads(domain) for domain in duck.readlines()))\n",
    "    duck.close()"
   ]
  },
  {
   "cell_type": "code",
   "execution_count": 3,
   "id": "7ebd69d0",
   "metadata": {},
   "outputs": [],
   "source": [
    "kingdom = defaultdict(list)\n",
    "\n",
    "for domain in domains:\n",
    "    for website, data in domain.items():\n",
    "        if isinstance(data, str):\n",
    "            kingdom[website].append(data)\n",
    "\n",
    "kingdom = {website: tuple(data) for website, data in kingdom.items()}"
   ]
  },
  {
   "cell_type": "code",
   "execution_count": 4,
   "id": "ffad5ddb",
   "metadata": {
    "scrolled": true
   },
   "outputs": [],
   "source": [
    "phylum = defaultdict(list)\n",
    "\n",
    "for domain in domains:\n",
    "    for webpage, data in domain.items():\n",
    "        if isinstance(data, dict):\n",
    "            phylum[webpage].append(data)\n",
    "\n",
    "phylum = {webpage: tuple(data) for webpage, data in phylum.items()}"
   ]
  },
  {
   "cell_type": "code",
   "execution_count": 5,
   "id": "5c0836ef",
   "metadata": {},
   "outputs": [],
   "source": [
    "classes = list()\n",
    "\n",
    "for webpage, data in phylum.items():\n",
    "    for duck in data:\n",
    "        classes.append(duck)\n",
    "\n",
    "classes = tuple(classes)\n",
    "\n",
    "families = list()\n",
    "genera = list()\n",
    "species = list()\n",
    "\n",
    "for data in classes:\n",
    "    for classes_data, order_data in data.items():\n",
    "        for order in order_data:\n",
    "            if isinstance(order, dict):\n",
    "                for family, genus in order.items():\n",
    "                    families.append(family)\n",
    "                    genera.append(genus)\n",
    "            elif isinstance(order, str):\n",
    "                species.append(order)\n",
    "            else:\n",
    "                raise ValueError\n",
    "\n",
    "families = tuple(families)\n",
    "genera = tuple(genera)\n",
    "species = tuple(species)"
   ]
  },
  {
   "cell_type": "code",
   "execution_count": 6,
   "id": "0dc9f879-8027-4bba-95e1-0dd38d750e64",
   "metadata": {},
   "outputs": [
    {
     "data": {
      "text/plain": [
       "447413"
      ]
     },
     "execution_count": 6,
     "metadata": {},
     "output_type": "execute_result"
    }
   ],
   "source": [
    "len(domains)"
   ]
  },
  {
   "cell_type": "code",
   "execution_count": 7,
   "id": "c09d1976",
   "metadata": {},
   "outputs": [
    {
     "data": {
      "text/plain": [
       "95819"
      ]
     },
     "execution_count": 7,
     "metadata": {},
     "output_type": "execute_result"
    }
   ],
   "source": [
    "# len(kingdom)\n",
    "kingdom_population = 0\n",
    "for website, data in kingdom.items(): \n",
    "    if isinstance(data, str): \n",
    "        kingdom_population += 1\n",
    "    else: \n",
    "        kingdom_population += len(data)\n",
    "kingdom_population"
   ]
  },
  {
   "cell_type": "code",
   "execution_count": 8,
   "id": "b73f1b04",
   "metadata": {},
   "outputs": [
    {
     "data": {
      "text/plain": [
       "351594"
      ]
     },
     "execution_count": 8,
     "metadata": {},
     "output_type": "execute_result"
    }
   ],
   "source": [
    "# len(phylum)\n",
    "phylum_population = 0\n",
    "for webpage, data in phylum.items(): \n",
    "    if isinstance(data, str): \n",
    "        phylum_population += 1\n",
    "    else: \n",
    "        phylum_population += len(data)\n",
    "phylum_population"
   ]
  },
  {
   "cell_type": "code",
   "execution_count": 9,
   "id": "eff15814-d9c9-406f-add4-dee458599eb9",
   "metadata": {},
   "outputs": [
    {
     "data": {
      "text/plain": [
       "True"
      ]
     },
     "execution_count": 9,
     "metadata": {},
     "output_type": "execute_result"
    }
   ],
   "source": [
    "len(domains) == phylum_population + kingdom_population"
   ]
  },
  {
   "cell_type": "code",
   "execution_count": 10,
   "id": "d6a0018b-51af-4052-9cda-b10fce6b337e",
   "metadata": {},
   "outputs": [],
   "source": [
    "# domains"
   ]
  },
  {
   "cell_type": "code",
   "execution_count": 11,
   "id": "ece328b3",
   "metadata": {},
   "outputs": [],
   "source": [
    "# kingdom"
   ]
  },
  {
   "cell_type": "code",
   "execution_count": 12,
   "id": "e99a4764",
   "metadata": {},
   "outputs": [],
   "source": [
    "# phylum"
   ]
  },
  {
   "cell_type": "code",
   "execution_count": 13,
   "id": "fc81aa75-d98e-4ddc-b6bf-279fbd097975",
   "metadata": {},
   "outputs": [
    {
     "data": {
      "text/plain": [
       "3749502"
      ]
     },
     "execution_count": 13,
     "metadata": {},
     "output_type": "execute_result"
    }
   ],
   "source": [
    "class_population = 0\n",
    "for data in classes:\n",
    "    for classes_data, order_data in data.items():\n",
    "        if isinstance(classes_data, str):\n",
    "            class_population += 1\n",
    "        else:\n",
    "            raise ValueError\n",
    "class_population"
   ]
  },
  {
   "cell_type": "code",
   "execution_count": 14,
   "id": "c4436b54-f7ce-42f0-91e1-e06176aeee8e",
   "metadata": {},
   "outputs": [
    {
     "data": {
      "text/plain": [
       "10635967"
      ]
     },
     "execution_count": 14,
     "metadata": {},
     "output_type": "execute_result"
    }
   ],
   "source": [
    "order_population = 0\n",
    "for data in classes:\n",
    "    for classes_data, order_data in data.items():\n",
    "        for order in order_data:\n",
    "            if isinstance(order, dict):\n",
    "                for family, genus in order.items():\n",
    "                    order_population += 1\n",
    "                    # families.append(family)\n",
    "                    # genera.append(genus)\n",
    "            elif isinstance(order, str):\n",
    "                order_population += 1\n",
    "                # species.append(duckling)\n",
    "            else:\n",
    "                raise ValueError\n",
    "order_population"
   ]
  },
  {
   "cell_type": "code",
   "execution_count": 15,
   "id": "946c5f0a",
   "metadata": {},
   "outputs": [
    {
     "data": {
      "text/plain": [
       "5575628"
      ]
     },
     "execution_count": 15,
     "metadata": {},
     "output_type": "execute_result"
    }
   ],
   "source": [
    "len(families)"
   ]
  },
  {
   "cell_type": "code",
   "execution_count": 16,
   "id": "5c7bbec1",
   "metadata": {},
   "outputs": [
    {
     "data": {
      "text/plain": [
       "5575628"
      ]
     },
     "execution_count": 16,
     "metadata": {},
     "output_type": "execute_result"
    }
   ],
   "source": [
    "len(genera)"
   ]
  },
  {
   "cell_type": "code",
   "execution_count": 17,
   "id": "8addf653",
   "metadata": {},
   "outputs": [
    {
     "data": {
      "text/plain": [
       "5060339"
      ]
     },
     "execution_count": 17,
     "metadata": {},
     "output_type": "execute_result"
    }
   ],
   "source": [
    "len(species)"
   ]
  },
  {
   "cell_type": "code",
   "execution_count": 18,
   "id": "afc15776-ddd9-42f4-91c5-e491b792d646",
   "metadata": {
    "scrolled": true
   },
   "outputs": [],
   "source": [
    "# order"
   ]
  },
  {
   "cell_type": "code",
   "execution_count": 19,
   "id": "f1c546f9",
   "metadata": {},
   "outputs": [],
   "source": [
    "# families"
   ]
  },
  {
   "cell_type": "code",
   "execution_count": 20,
   "id": "660ed2e2",
   "metadata": {},
   "outputs": [],
   "source": [
    "# genera"
   ]
  },
  {
   "cell_type": "code",
   "execution_count": 21,
   "id": "edf873e2",
   "metadata": {},
   "outputs": [],
   "source": [
    "# species"
   ]
  },
  {
   "cell_type": "code",
   "execution_count": 22,
   "id": "f73f7d63",
   "metadata": {},
   "outputs": [
    {
     "data": {
      "text/plain": [
       "1094764"
      ]
     },
     "execution_count": 22,
     "metadata": {},
     "output_type": "execute_result"
    }
   ],
   "source": [
    "len(tuple(sorted(list(filter(None, set(families))), reverse=True)))"
   ]
  },
  {
   "cell_type": "code",
   "execution_count": 23,
   "id": "c7a54652",
   "metadata": {},
   "outputs": [
    {
     "data": {
      "text/plain": [
       "1412238"
      ]
     },
     "execution_count": 23,
     "metadata": {},
     "output_type": "execute_result"
    }
   ],
   "source": [
    "len(tuple(sorted(list(filter(None, set(genera))), reverse=True)))"
   ]
  },
  {
   "cell_type": "code",
   "execution_count": 24,
   "id": "9904eb72",
   "metadata": {},
   "outputs": [
    {
     "data": {
      "text/plain": [
       "1243359"
      ]
     },
     "execution_count": 24,
     "metadata": {},
     "output_type": "execute_result"
    }
   ],
   "source": [
    "len(tuple(sorted(list(filter(None, set(species))), reverse=True)))"
   ]
  },
  {
   "cell_type": "code",
   "execution_count": 25,
   "id": "2dd70216",
   "metadata": {},
   "outputs": [],
   "source": [
    "# tuple(sorted(list(filter(None, set(families))), reverse=True))"
   ]
  },
  {
   "cell_type": "code",
   "execution_count": 26,
   "id": "68573f0b",
   "metadata": {},
   "outputs": [],
   "source": [
    "# tuple(sorted(list(filter(None, set(genera))), reverse=True))"
   ]
  },
  {
   "cell_type": "code",
   "execution_count": 27,
   "id": "5ad43829",
   "metadata": {},
   "outputs": [],
   "source": [
    "# tuple(sorted(list(filter(None, set(species))), reverse=True))"
   ]
  },
  {
   "cell_type": "code",
   "execution_count": 28,
   "id": "cfa1e58f",
   "metadata": {},
   "outputs": [
    {
     "name": "stdout",
     "output_type": "stream",
     "text": [
      "{'Uri': [{'Tokusatsu': 'https://tl.wikipedia.org/wiki/Tokusatsu'}],\n",
      " 'Gumawa': [{'Toei Company (hindi pa naisusulat)': 'https://tl.wikipedia.org/w/index.php?title=Toei_Company&action=edit&redlink=1'}],\n",
      " 'Pinangungunahan ni/nina': [{'Noboru Kaneko (hindi pa naisusulat)': 'https://tl.wikipedia.org/w/index.php?title=Noboru_Kaneko&action=edit&redlink=1',\n",
      "                              'Kei Horie (hindi pa naisusulat)': 'https://tl.wikipedia.org/w/index.php?title=Kei_Horie&action=edit&redlink=1',\n",
      "                              'Takeru Shibaki (hindi pa naisusulat)': 'https://tl.wikipedia.org/w/index.php?title=Takeru_Shibaki&action=edit&redlink=1',\n",
      "                              'Kazuyoshi Sakai (hindi pa naisusulat)': 'https://tl.wikipedia.org/w/index.php?title=Kazuyoshi_Sakai&action=edit&redlink=1',\n",
      "                              'Mio Takeuchi (hindi pa naisusulat)': 'https://tl.wikipedia.org/w/index.php?title=Mio_Takeuchi&action=edit&redlink=1',\n",
      "                              'Tetsuji Tamayama': 'https://tl.wikipedia.org/wiki/Tetsuji_Tamayama'}],\n",
      " 'Isinalaysay ni/nina': [{'Hiroshi Masuoka (seiyu) (hindi pa naisusulat)': 'https://tl.wikipedia.org/w/index.php?title=Hiroshi_Masuoka_(seiyu)&action=edit&redlink=1'}],\n",
      " 'Kompositor': [{'Kōtarō Nakagawa (hindi pa naisusulat)': 'https://tl.wikipedia.org/w/index.php?title=K%C5%8Dtar%C5%8D_Nakagawa&action=edit&redlink=1'}],\n",
      " 'Bansang pinagmulan': [{'Hapon (bansa)': 'https://tl.wikipedia.org/wiki/Hapon_(bansa)'}],\n",
      " 'Wika': ['Hapon'],\n",
      " 'Bilang ng kabanata': ['51'],\n",
      " 'Prodyuser': ['Jun Hikasa', 'Kenji Ōta', 'Yuka Takahashi', 'Kōichi Yada'],\n",
      " 'Oras ng pagpapalabas': ['mga nasa 25 min.'],\n",
      " 'Orihinal na himpilan': [{'TV Asahi (hindi pa naisusulat)': 'https://tl.wikipedia.org/w/index.php?title=TV_Asahi&action=edit&redlink=1'}],\n",
      " 'Orihinal na pagsasapahimpapawid': ['18 Pebrero 2001', '–', '10 Pebrero 2002'],\n",
      " 'Sumunod sa': [{'Mirai Sentai Timeranger (hindi pa naisusulat)': 'https://tl.wikipedia.org/w/index.php?title=Mirai_Sentai_Timeranger&action=edit&redlink=1'}],\n",
      " 'Sinundan ng': [{'Ninpuu Sentai Hurricaneger (hindi pa naisusulat)': 'https://tl.wikipedia.org/w/index.php?title=Ninpuu_Sentai_Hurricaneger&action=edit&redlink=1'}]}\n",
      "\n",
      "{'Type': [{'Tokusatsu': 'https://tl.wikipedia.org/wiki/Tokusatsu'}],\n",
      " 'Create': [{'Toei Company (not yet written)': 'https://tl.wikipedia.org/w/index.php?title=Toei_Company&action=edit&redlink=1'}],\n",
      " 'Led by/nina': [{'Noboru Kaneko (not yet written)': 'https://tl.wikipedia.org/w/index.php?title=Noboru_Kaneko&action=edit&redlink=1',\n",
      "                  'Kei Horie (not yet written)': 'https://tl.wikipedia.org/w/index.php?title=Kei_Horie&action=edit&redlink=1',\n",
      "                  'Takeru Shibaki (not yet written)': 'https://tl.wikipedia.org/w/index.php?title=Takeru_Shibaki&action=edit&redlink=1',\n",
      "                  'Kazuyoshi Sakai (not yet written)': 'https://tl.wikipedia.org/w/index.php?title=Kazuyoshi_Sakai&action=edit&redlink=1',\n",
      "                  'Mio Takeuchi (not yet written)': 'https://tl.wikipedia.org/w/index.php?title=Mio_Takeuchi&action=edit&redlink=1',\n",
      "                  'Tetsuji Tamayama': 'https://tl.wikipedia.org/wiki/Tetsuji_Tamayama'}],\n",
      " 'Narrated by/n/': [{'Hiroshi Masuoka (seiyu) (not yet written)': 'https://tl.wikipedia.org/w/index.php?title=Hiroshi_Masuoka_(seiyu)&action=edit&redlink=1'}],\n",
      " 'Composer': [{'Kōtarō Nakagawa (not yet written)': 'https://tl.wikipedia.org/w/index.php?title=K%C5%8Dtar%C5%8D_Nakagawa&action=edit&redlink=1'}],\n",
      " 'country origin': [{'Japan': 'https://tl.wikipedia.org/wiki/Hapon_(bansa)'}],\n",
      " \"we've changed rooms.\": ['Japan'],\n",
      " 'Number of chapters': ['51'],\n",
      " 'Producer': ['June Hikasa', 'Kenji Ōta', 'Yuki Takahashi', 'Kōichi Yada'],\n",
      " 'Showtime': ['about 25 mins.'],\n",
      " 'Original headquarters': [{'TV Asahi (not yet written)': 'https://tl.wikipedia.org/w/index.php?title=TV_Asahi&action=edit&redlink=1'}],\n",
      " 'Original broadcasting': ['18 February 2001', '–', '10 February 2002'],\n",
      " 'competent and effective': [{'Mirai Sentai Timeranger (not yet written)': 'https://tl.wikipedia.org/w/index.php?title=Mirai_Sentai_Timeranger&action=edit&redlink=1'}],\n",
      " 'Followed by': [{'Ninpuu Sentai Hurricaneger (not yet written)': 'https://tl.wikipedia.org/w/index.php?title=Ninpuu_Sentai_Hurricaneger&action=edit&redlink=1'}]}\n"
     ]
    }
   ],
   "source": [
    "from translate import Translator\n",
    "import pprint\n",
    "\n",
    "# domain = response.xpath(\"/*[@lang]/@lang\").get()\n",
    "\n",
    "data = dict()\n",
    "\n",
    "for webpage in phylum[\"('Hyakujuu Sentai Gaoranger', 'https://tl.wikipedia.org/wiki/Hyakujuu_Sentai_Gaoranger')\"]:\n",
    "    pprint.pp(webpage)\n",
    "    print()\n",
    "\n",
    "    for classes, order in webpage.items():\n",
    "        classes = Translator(provider='mymemory', from_lang='tl', to_lang='en').translate(classes)\n",
    "        \n",
    "        for classes_data, order_data in enumerate(order):\n",
    "            if isinstance(order_data, str):\n",
    "                order[classes_data] = Translator(provider='mymemory', from_lang='tl', to_lang='en').translate(order_data)\n",
    "            elif isinstance(order_data, dict):\n",
    "                order[classes_data] = dict(zip(\n",
    "                    [Translator(provider='mymemory', from_lang='tl', to_lang='en').translate(family) for family in list(order_data.keys())],\n",
    "                    [genus for genus in order_data.values()]\n",
    "                ))\n",
    "            else:\n",
    "                raise ValueError\n",
    "\n",
    "        data.update({classes: order})\n",
    "    \n",
    "pprint.pp(data)"
   ]
  },
  {
   "cell_type": "code",
   "execution_count": 29,
   "id": "f5ce672f-3082-4059-bee0-98c62ce7c272",
   "metadata": {},
   "outputs": [],
   "source": [
    "exit()"
   ]
  },
  {
   "cell_type": "code",
   "execution_count": null,
   "id": "f8bb3c88-c517-4989-a611-1fc0b0ab4c87",
   "metadata": {},
   "outputs": [],
   "source": []
  }
 ],
 "metadata": {
  "kernelspec": {
   "display_name": "Python 3 (ipykernel)",
   "language": "python",
   "name": "python3"
  },
  "language_info": {
   "codemirror_mode": {
    "name": "ipython",
    "version": 3
   },
   "file_extension": ".py",
   "mimetype": "text/x-python",
   "name": "python",
   "nbconvert_exporter": "python",
   "pygments_lexer": "ipython3",
   "version": "3.11.5"
  }
 },
 "nbformat": 4,
 "nbformat_minor": 5
}
