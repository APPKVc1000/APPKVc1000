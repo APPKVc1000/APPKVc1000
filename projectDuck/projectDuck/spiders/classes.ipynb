{
 "cells": [
  {
   "cell_type": "markdown",
   "id": "c77d721b",
   "metadata": {},
   "source": [
    "###### Class (Label)    ===>    Renamed \"Wakefield\"    \n",
    "###### Expected Output    ===>    //descendant-or-self::*[contains(.,'Renamed \"Wakefield\"')]"
   ]
  },
  {
   "cell_type": "raw",
   "id": "e585dc93",
   "metadata": {},
   "source": [
    "//tr[ancestor-or-self::*[@class[contains(.,\"infobox\")]] and descendant::th and descendant::td]//th//descendant-or-self::*[contains(.,'Renamed \"Wakefield\"')]//parent::tr//td"
   ]
  },
  {
   "cell_type": "code",
   "execution_count": 1,
   "id": "0ecbac34",
   "metadata": {
    "scrolled": true
   },
   "outputs": [
    {
     "name": "stdout",
     "output_type": "stream",
     "text": [
      "Renamed \"Wakefield\"\n"
     ]
    }
   ],
   "source": [
    "classes = input()\n",
    "\n",
    "if \"'\" not in classes:\n",
    "    classes = \"'\" + classes + \"'\"\n",
    "elif '\"' not in classes:\n",
    "    classes = '\"' + classes + '\"'\n",
    "else:\n",
    "    classes = \"concat('\" + classes.replace(\"'\", \"',\\\"'\\\",'\") + \"')\""
   ]
  },
  {
   "cell_type": "code",
   "execution_count": 2,
   "id": "ffe9d784",
   "metadata": {},
   "outputs": [],
   "source": [
    "classes_nest = f\"//tr[ancestor-or-self::*[@class[contains(.,\\\"infobox\\\")]] and descendant::th and descendant::td]//th//descendant-or-self::*[contains(.,{classes})]\"\n",
    "order_nest = \"//parent::tr//td\""
   ]
  },
  {
   "cell_type": "code",
   "execution_count": 3,
   "id": "56d07ae4",
   "metadata": {},
   "outputs": [
    {
     "name": "stdout",
     "output_type": "stream",
     "text": [
      "'Renamed \"Wakefield\"'\n"
     ]
    }
   ],
   "source": [
    "print(classes)"
   ]
  },
  {
   "cell_type": "code",
   "execution_count": 4,
   "id": "9217cda2",
   "metadata": {
    "scrolled": true
   },
   "outputs": [
    {
     "name": "stdout",
     "output_type": "stream",
     "text": [
      "//tr[ancestor-or-self::*[@class[contains(.,\"infobox\")]] and descendant::th and descendant::td]//th//descendant-or-self::*[contains(.,'Renamed \"Wakefield\"')]//parent::tr//td\n"
     ]
    }
   ],
   "source": [
    "print(classes_nest + order_nest)"
   ]
  }
 ],
 "metadata": {
  "kernelspec": {
   "display_name": "Python 3 (ipykernel)",
   "language": "python",
   "name": "python3"
  },
  "language_info": {
   "codemirror_mode": {
    "name": "ipython",
    "version": 3
   },
   "file_extension": ".py",
   "mimetype": "text/x-python",
   "name": "python",
   "nbconvert_exporter": "python",
   "pygments_lexer": "ipython3",
   "version": "3.10.9"
  }
 },
 "nbformat": 4,
 "nbformat_minor": 5
}
